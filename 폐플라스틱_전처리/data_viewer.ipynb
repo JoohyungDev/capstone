{
 "cells": [
  {
   "cell_type": "code",
   "execution_count": 2,
   "metadata": {},
   "outputs": [
    {
     "name": "stdout",
     "output_type": "stream",
     "text": [
      "         width  height         file_name  id.1  category_id  \\\n",
      "0       2048.0  2048.0  PET_025_1435.jpg     1            1   \n",
      "1       2048.0  2048.0  PET_025_1435.jpg     2            1   \n",
      "2       2048.0  2048.0  PET_025_1435.jpg     3            1   \n",
      "3       2048.0  2048.0  PET_025_1436.jpg     1            1   \n",
      "4       2048.0  2048.0  PET_025_1436.jpg     2            1   \n",
      "...        ...     ...               ...   ...          ...   \n",
      "233726  2048.0  2048.0   PS_041_5614.jpg     2            2   \n",
      "233727  2048.0  2048.0   PS_041_5614.jpg     3            2   \n",
      "233728  2048.0  2048.0   PS_041_5615.jpg     1            2   \n",
      "233729  2048.0  2048.0   PS_041_5615.jpg     2            2   \n",
      "233730  2048.0  2048.0   PS_041_5615.jpg     3            2   \n",
      "\n",
      "                                 bbox  \n",
      "0        [400.0, 864.0, 255.0, 221.0]  \n",
      "1       [503.0, 1269.0, 250.0, 262.0]  \n",
      "2       [1269.0, 565.0, 197.0, 296.0]  \n",
      "3        [453.0, 278.0, 582.0, 866.0]  \n",
      "4       [1262.0, 443.0, 320.0, 264.0]  \n",
      "...                               ...  \n",
      "233726   [427.0, 1085.0, 118.0, 98.0]  \n",
      "233727  [749.0, 1308.0, 116.0, 173.0]  \n",
      "233728   [360.0, 919.0, 144.0, 145.0]  \n",
      "233729   [972.0, 562.0, 115.0, 112.0]  \n",
      "233730   [899.0, 1295.0, 102.0, 86.0]  \n",
      "\n",
      "[233731 rows x 6 columns]\n"
     ]
    }
   ],
   "source": [
    "import pandas as pd\n",
    "import numpy as np\n",
    "data = pd.read_csv('Waste_plastics_origin(2048).csv')\n",
    "x = data.drop(columns='id')\n",
    "y = x.drop(columns='image_id')\n",
    "z = y.drop(columns='metainfo_id')\n",
    "a = z.drop(columns='ignore')\n",
    "b = a.drop(columns='iscrowd')\n",
    "c = b.drop(columns='area')\n",
    "c.to_csv('./modified_data.csv', index=False)\n",
    "print(c)"
   ]
  },
  {
   "cell_type": "code",
   "execution_count": null,
   "metadata": {},
   "outputs": [],
   "source": []
  }
 ],
 "metadata": {
  "kernelspec": {
   "display_name": "Python 3 (ipykernel)",
   "language": "python",
   "name": "python3"
  },
  "language_info": {
   "codemirror_mode": {
    "name": "ipython",
    "version": 3
   },
   "file_extension": ".py",
   "mimetype": "text/x-python",
   "name": "python",
   "nbconvert_exporter": "python",
   "pygments_lexer": "ipython3",
   "version": "3.9.13"
  }
 },
 "nbformat": 4,
 "nbformat_minor": 2
}
